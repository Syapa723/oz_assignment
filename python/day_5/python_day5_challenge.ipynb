{
 "cells": [
  {
   "cell_type": "markdown",
   "metadata": {
    "id": "aLkxKxnFLowa"
   },
   "source": [
    "안녕하세요. 수강생 여러분~! Chapter17 ~ 20 수업은 잘 들으셨나요?\n",
    "\n",
    "Chapter17 ~ 20의 수업 내용을 바탕으로 아래 문제를 풀어주시면 됩니다.\n",
    "\n",
    "\n",
    "<br>\n",
    "\n",
    "\n",
    "[**답변 입력 방법**]\n",
    "\n",
    "문제 아래에 있는 코드 입력창에 정답코드를 작성하신 후  __▷ 버튼을 클릭해 코드를 실행__ 해보세요<br>"
   ]
  },
  {
   "cell_type": "markdown",
   "metadata": {
    "id": "pYJ1dSggLwcG"
   },
   "source": [
    "__[문제1]__\n",
    "\n",
    "print_even 리스트 내에 있는 값 중 짝수만 화면에 출력되도록 print_score 함수를 생성 후 결과값을 출력해주세요\n",
    "\n",
    "print_even ([1, 3, 2, 10, 12, 11, 15])"
   ]
  },
  {
   "cell_type": "code",
   "execution_count": null,
   "metadata": {
    "colab": {
     "base_uri": "https://localhost:8080/"
    },
    "executionInfo": {
     "elapsed": 5,
     "status": "ok",
     "timestamp": 1745319893178,
     "user": {
      "displayName": "박세영",
      "userId": "01424524977611524804"
     },
     "user_tz": -540
    },
    "id": "PTqEeebbLmCA",
    "outputId": "0aae0dd5-9543-4164-afa4-24f41cb63a0d"
   },
   "outputs": [
    {
     "name": "stdout",
     "output_type": "stream",
     "text": [
      "2\n",
      "10\n",
      "12\n"
     ]
    }
   ],
   "source": [
    "print_even = (1, 3, 2, 10, 12, 11, 15)\n",
    "\n",
    "def print_score() :\n",
    "    global print_even\n",
    "    for 짝수 in print_even :\n",
    "        if 짝수 % 2 == 0 :\n",
    "            print(짝수) # 마지막을 return으로 받으면 2라는 값 밖에 나오지 않고 print로 출력하면 정답이 나오는데 왜그런지 차이가 궁금합니다\n",
    "\n",
    "print_score()"
   ]
  },
  {
   "cell_type": "markdown",
   "metadata": {
    "id": "XFPy7UdUuTXg"
   },
   "source": [
    "---"
   ]
  },
  {
   "cell_type": "markdown",
   "metadata": {
    "id": "ZkGserEsQS0L"
   },
   "source": [
    "__[문제2]__\n",
    "\n",
    "비어있는 오즈 (oz) 클래스를 \"정의\" 해보세요."
   ]
  },
  {
   "cell_type": "code",
   "execution_count": null,
   "metadata": {
    "id": "dJbcWWlwL0iK"
   },
   "outputs": [],
   "source": [
    "class 오즈 :\n",
    "    def hello(self) :\n",
    "        print('oz')"
   ]
  },
  {
   "cell_type": "markdown",
   "metadata": {
    "id": "JuVukHfsuTXg"
   },
   "source": [
    "---"
   ]
  },
  {
   "cell_type": "markdown",
   "metadata": {
    "id": "Ofy86rZfL1Mg"
   },
   "source": [
    "__[문제3]__\n",
    "\n",
    "오즈(oz) 클래스의 인스턴스를 \"생성\" 하고 이를 coding 변수로 할당해보세요."
   ]
  },
  {
   "cell_type": "code",
   "execution_count": null,
   "metadata": {
    "colab": {
     "base_uri": "https://localhost:8080/"
    },
    "executionInfo": {
     "elapsed": 7,
     "status": "ok",
     "timestamp": 1745320468439,
     "user": {
      "displayName": "박세영",
      "userId": "01424524977611524804"
     },
     "user_tz": -540
    },
    "id": "5NhWiuULL2Xa",
    "outputId": "deb5fae6-af6d-40f6-f5c8-4eaa1b91e951"
   },
   "outputs": [
    {
     "name": "stdout",
     "output_type": "stream",
     "text": [
      "oz\n"
     ]
    }
   ],
   "source": [
    "class 오즈 :\n",
    "    def hello(self) :\n",
    "        print('oz')\n",
    "\n",
    "coding = 오즈()\n",
    "coding.hello()"
   ]
  },
  {
   "cell_type": "markdown",
   "metadata": {
    "id": "spgPQK_JuTXi"
   },
   "source": [
    "---"
   ]
  },
  {
   "cell_type": "markdown",
   "metadata": {
    "id": "5T6EMx8EL26b"
   },
   "source": [
    "[문제4]\n",
    "\n",
    "오즈(oz) 클래스에 \"클래스 정복\"을 출력하는 기본 생성자를 추가해주세요"
   ]
  },
  {
   "cell_type": "code",
   "execution_count": null,
   "metadata": {
    "colab": {
     "base_uri": "https://localhost:8080/"
    },
    "executionInfo": {
     "elapsed": 17,
     "status": "ok",
     "timestamp": 1745320500059,
     "user": {
      "displayName": "박세영",
      "userId": "01424524977611524804"
     },
     "user_tz": -540
    },
    "id": "Zq35PXA0L3-m",
    "outputId": "d31de818-65fc-4b08-b37d-d3c5ed77fc39"
   },
   "outputs": [
    {
     "name": "stdout",
     "output_type": "stream",
     "text": [
      "클래스 정복\n"
     ]
    }
   ],
   "source": [
    "class 오즈 :\n",
    "    def hello(self) :\n",
    "        print('클래스 정복')\n",
    "\n",
    "coding = 오즈()\n",
    "coding.hello()"
   ]
  },
  {
   "cell_type": "markdown",
   "metadata": {
    "id": "Dudr3ygOuTXi"
   },
   "source": [
    "---"
   ]
  },
  {
   "cell_type": "markdown",
   "metadata": {
    "id": "htuycQWSL4l-"
   },
   "source": [
    "__[문제5]__\n",
    "\n",
    "오즈 (oz) 클래스에 (이름, 나이, 코딩레벨)을 받는 생성자를 추가해주세요\n",
    "\n",
    "coding = oz(\"김코\", 30, \"A\")\n"
   ]
  },
  {
   "cell_type": "code",
   "execution_count": null,
   "metadata": {
    "id": "A7h3I8CWL5ox"
   },
   "outputs": [],
   "source": [
    "class 오즈 :\n",
    "    def __init__(self, name, age, codingLV) :\n",
    "        self.name = name\n",
    "        self.age = age\n",
    "        self.codingLV = codingLV\n",
    "\n",
    "coding = 오즈(\"김코\", 30, \"A\")\n",
    "pass\n",
    "\n",
    "# print('이름:', coding.name)\n",
    "# print('나이:', coding.age)\n",
    "# print('코딩레벨:', coding.codingLV)"
   ]
  },
  {
   "cell_type": "markdown",
   "metadata": {
    "id": "as_pmVLKuTXi"
   },
   "source": [
    "---"
   ]
  },
  {
   "cell_type": "markdown",
   "metadata": {
    "id": "ZGDLHI5xL6Bd"
   },
   "source": [
    "__[문제6]__\n",
    "\n",
    "5번 문제에서 생성한 인스턴스의 이름, 나이, 성별을 출력해주세요.\n",
    "\n",
    "\n",
    "\n",
    "출력 결과  ) <br>\n",
    "이름 : 김코  \n",
    "나이 : 30  \n",
    "코딩레벨 : A  \n",
    "\n",
    "__Tips__\n",
    "\n",
    "\n",
    "- 인스턴스 변수에 접근하여 값을 출력하면 됩니다  : )"
   ]
  },
  {
   "cell_type": "code",
   "execution_count": 53,
   "metadata": {
    "colab": {
     "base_uri": "https://localhost:8080/"
    },
    "executionInfo": {
     "elapsed": 17,
     "status": "ok",
     "timestamp": 1745324109287,
     "user": {
      "displayName": "박세영",
      "userId": "01424524977611524804"
     },
     "user_tz": -540
    },
    "id": "qCrPejI_L8Wr",
    "outputId": "cd1daf8f-955c-48c5-e17d-392980de29f2"
   },
   "outputs": [
    {
     "name": "stdout",
     "output_type": "stream",
     "text": [
      "이름: 김코\n",
      "나이: 30\n",
      "코딩레벨: A\n"
     ]
    }
   ],
   "source": [
    "class 오즈 :\n",
    "    def __init__(self, name, age, codingLV) :\n",
    "        self.name = name\n",
    "        self.age = age\n",
    "        self.codingLV = codingLV\n",
    "\n",
    "coding = 오즈(\"김코\", 30, \"A\")\n",
    "\n",
    "print('이름:', coding.name)\n",
    "print('나이:', coding.age)\n",
    "print('코딩레벨:', coding.codingLV)"
   ]
  },
  {
   "cell_type": "markdown",
   "metadata": {
    "id": "4fvK4L-quTXi"
   },
   "source": [
    "---"
   ]
  },
  {
   "cell_type": "markdown",
   "metadata": {
    "id": "RmtPk-A1L8z4"
   },
   "source": [
    "__[문제7]__\n",
    "\n",
    "오즈 (oz) 클래스에서 이름, 나이, 성별을 출력하는 who() 메소드를 추가하고 who()메소드를 이용해 아래 출력 결과를 만들어주세요\n",
    "\n",
    "\n",
    "출력 결과 ) <br>\n",
    "이름: 김코, 나이: 30, 코딩레벨: A"
   ]
  },
  {
   "cell_type": "code",
   "execution_count": 67,
   "metadata": {
    "colab": {
     "base_uri": "https://localhost:8080/"
    },
    "executionInfo": {
     "elapsed": 16,
     "status": "ok",
     "timestamp": 1745326590632,
     "user": {
      "displayName": "박세영",
      "userId": "01424524977611524804"
     },
     "user_tz": -540
    },
    "id": "fvrvm87vL_HZ",
    "outputId": "221497f8-ea95-40ce-f365-e3154e159cbb"
   },
   "outputs": [
    {
     "name": "stdout",
     "output_type": "stream",
     "text": [
      "이름: 김코 나이: 30 codingLV: A\n"
     ]
    }
   ],
   "source": [
    "class 오즈 :\n",
    "    def __init__(self, name, age, codingLV) :\n",
    "        self.name = name\n",
    "        self.age = age\n",
    "        self.codingLV = codingLV\n",
    "\n",
    "    def who(self):\n",
    "        print('이름:',self.name,'나이:',self.age,'codingLV:',self.codingLV)\n",
    "\n",
    "coding = 오즈(\"김코\", \"30\", \"A\")\n",
    "coding.who()\n",
    "\n",
    "#, 나이: age, 코딩레벨: codingLv\n",
    "# print('이름:', coding.name)\n",
    "# print('나이:', coding.age)\n",
    "# print('코딩레벨:', coding.codingLV)"
   ]
  }
 ],
 "metadata": {
  "colab": {
   "provenance": []
  },
  "kernelspec": {
   "display_name": "Python 3",
   "name": "python3"
  },
  "language_info": {
   "codemirror_mode": {
    "name": "ipython",
    "version": 3
   },
   "file_extension": ".py",
   "mimetype": "text/x-python",
   "name": "python",
   "nbconvert_exporter": "python",
   "pygments_lexer": "ipython3",
   "version": "3.11.7"
  }
 },
 "nbformat": 4,
 "nbformat_minor": 0
}
